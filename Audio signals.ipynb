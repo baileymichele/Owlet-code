{
 "cells": [
  {
   "cell_type": "code",
   "execution_count": 1,
   "metadata": {},
   "outputs": [],
   "source": [
    "import numpy as np"
   ]
  },
  {
   "cell_type": "markdown",
   "metadata": {},
   "source": [
    "### Code from Tanner"
   ]
  },
  {
   "cell_type": "code",
   "execution_count": 65,
   "metadata": {},
   "outputs": [],
   "source": [
    "def compute_gain(sound, fs, min_db=-80.0, mode='A_weighting'):\n",
    "    \"\"\"Helper function for mix\"\"\"\n",
    "    if fs == 16000:\n",
    "        n_fft = 2048\n",
    "    elif fs == 44100:\n",
    "        n_fft = 4096\n",
    "    else:\n",
    "        raise Exception('Invalid fs {}'.format(fs))\n",
    "    stride = n_fft // 2\n",
    "\n",
    "    gain = []\n",
    "    for i in xrange(0, len(sound) - n_fft + 1, stride):\n",
    "        if mode == 'RMSE':\n",
    "            g = np.mean(sound[i: i + n_fft] ** 2)\n",
    "        elif mode == 'A_weighting':\n",
    "            spec = np.fft.rfft(np.hanning(n_fft + 1)[:-1] * sound[i: i + n_fft])\n",
    "            power_spec = np.abs(spec) ** 2\n",
    "            a_weighted_spec = power_spec * np.power(10, a_weight(fs, n_fft) / 10)\n",
    "            g = np.sum(a_weighted_spec)\n",
    "        else:\n",
    "            raise Exception('Invalid mode {}'.format(mode))\n",
    "        gain.append(g)\n",
    "\n",
    "    gain = np.array(gain)\n",
    "    gain = np.maximum(gain, np.power(10, min_db / 10))\n",
    "    gain_db = 10 * np.log10(gain)\n",
    "\n",
    "    return gain_db\n",
    "\n",
    "def mix(sound1, sound2, r, fs=44100):\n",
    "    gain1 = np.max(compute_gain(sound1, fs))  # Decibel\n",
    "    gain2 = np.max(compute_gain(sound2, fs))\n",
    "    t = 1.0 / (1 + np.power(10, (gain1 - gain2) / 20.) * (1 - r) / r)\n",
    "    sound = ((sound1 * t + sound2 * (1 - t)) / np.sqrt(t ** 2 + (1 - t) ** 2))\n",
    "\n",
    "    return sound\n",
    "\n",
    "\n",
    "\n",
    "def shift_sound(sound, max_len=220500):\n",
    "    '''Helper function, randomly shift a sound and make it full length'''\n",
    "    full_sound = np.zeros(max_len)\n",
    "    length = len(sound)\n",
    "    start = np.random.randint(max_len - length)\n",
    "    end = start + length\n",
    "    full_sound[start:end] = sound\n",
    "    \n",
    "    return full_sound\n",
    "\n",
    "\n",
    "def shuffle_mix(sound1, sound2, r, fs=44100, max_len=220500):\n",
    "    '''Shift short signals and pad so they are full length\n",
    "       Shuffle one of the sounds then mix the two\n",
    "    '''\n",
    "    # If sounds are not full length: shift randomly within full interval\n",
    "    if len(sound1) < max_len:\n",
    "        sound1 = shift_sound(sound1, max_len)\n",
    "    if len(sound2) < max_len:\n",
    "        sound1 = shift_sound(sound2, max_len)\n",
    "    \n",
    "    # Get suffled order\n",
    "    order = list(range(5))\n",
    "    np.random.shuffle(order)\n",
    "    sound1_shuffle = np.zeros(max_len)\n",
    "    \n",
    "    # shuffle sound1\n",
    "    for i in order:\n",
    "        sound1_shuffle[i*fs:i*fs+fs] = sound1[order[i]*fs:order[i]*fs+fs]\n",
    "    \n",
    "    return mix(sound1_shuffle, sound2, r)\n",
    "\n",
    "def sliding_mix(sound1, sound2, r, fs=44100, max_len=220500, shift_limit=2*44100):\n",
    "    '''Shift short signals and pad so they are full length\n",
    "       Slide + pad the sounds (in opposite directions) then mix\n",
    "    '''\n",
    "    # make sure shift_limit is less than tolerance\n",
    "    if shift_limit > 3*220500:\n",
    "        raise ValueError(\"Cannot shift by more than 2 seconds\") # should depend on shortest sound\n",
    "    \n",
    "    # If sounds are not full length: shift randomly within full interval\n",
    "    if len(sound1) < max_len:\n",
    "        sound1 = shift_sound(sound1, max_len)\n",
    "    if len(sound2) < max_len:\n",
    "        sound1 = shift_sound(sound2, max_len)\n",
    "    \n",
    "    shift_amt = np.random.randint(shift_limit) + 1 # 1 <= shift_amt <= 3 \n",
    "    \n",
    "    # pad sound1 on left by shift_amt; sound 2 on right by shift_amt\n",
    "    cut_off = int(shift_amt/2)\n",
    "    padding = np.zeros(shift_amt)\n",
    "    sound1_changed = np.insert(sound1,0,padding)[cut_off:cut_off+max_len]\n",
    "    sound2_changed = np.insert(sound2,len(sound2)-1, padding)[cut_off:cut_off+max_len]\n",
    "    \n",
    "    return mix(sound1_changed, sound2_changed, r)\n"
   ]
  },
  {
   "cell_type": "code",
   "execution_count": 3,
   "metadata": {},
   "outputs": [],
   "source": [
    "# Load file\n",
    "wav44 = np.load('wav50_44.npz')\n",
    "list_of_audio_data = wav44['fold1'].item()['sounds']"
   ]
  },
  {
   "cell_type": "code",
   "execution_count": 7,
   "metadata": {},
   "outputs": [],
   "source": [
    "import matplotlib.pyplot as plt"
   ]
  },
  {
   "cell_type": "code",
   "execution_count": 13,
   "metadata": {},
   "outputs": [
    {
     "data": {
      "text/plain": [
       "[<matplotlib.lines.Line2D at 0x122c9f5c0>]"
      ]
     },
     "execution_count": 13,
     "metadata": {},
     "output_type": "execute_result"
    },
    {
     "data": {
      "image/png": "[encoded data removed]",
      "text/plain": [
       "<Figure size 432x288 with 1 Axes>"
      ]
     },
     "metadata": {
      "needs_background": "light"
     },
     "output_type": "display_data"
    }
   ],
   "source": [
    "plt.plot(list_of_audio_data[1])\n",
    "plt.plot(list_of_audio_data[0])"
   ]
  },
  {
   "cell_type": "code",
   "execution_count": 15,
   "metadata": {},
   "outputs": [
    {
     "data": {
      "text/plain": [
       "0"
      ]
     },
     "execution_count": 15,
     "metadata": {},
     "output_type": "execute_result"
    }
   ],
   "source": [
    "wav44['fold1'].item()['labels'][0]"
   ]
  }
 ],
 "metadata": {
  "kernelspec": {
   "display_name": "Python 3",
   "language": "python",
   "name": "python3"
  },
  "language_info": {
   "codemirror_mode": {
    "name": "ipython",
    "version": 3
   },
   "file_extension": ".py",
   "mimetype": "text/x-python",
   "name": "python",
   "nbconvert_exporter": "python",
   "pygments_lexer": "ipython3",
   "version": "3.6.7"
  }
 },
 "nbformat": 4,
 "nbformat_minor": 2
}
